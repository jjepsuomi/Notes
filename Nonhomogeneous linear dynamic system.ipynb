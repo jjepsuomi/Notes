{
 "cells": [
  {
   "cell_type": "markdown",
   "metadata": {},
   "source": [
    "### Homogeneous linear dynamic system\n",
    "$$\\dot{x}(t) =\\frac{dx}{dt} = F(t)x(t)$$\n",
    "solution to homogenos linear dynamic system: \n",
    "$$x(t)=\\Phi(t)x(0)$$\n",
    "\n",
    "### Nonhomogeneous linear dynamic system\n",
    "\n",
    "$$\\dot{x}(t) = F(t)x(t) + C(t)u(t)$$\n",
    "\n",
    "### Properties of state transition matrix (STM): \n",
    "\n",
    "1. $\\Phi^{-1}(t)x(t) = x(0), \\;\\;\\;\\;\\;\\;\\Phi(t)\\Phi^{-1}(t)x(t)=x(t), \\;\\;\\;\\;\\;\\;\\Phi(\\tau, t) = \\Phi(\\tau)\\Phi^{-1}(t), \\;\\;\\;\\;\\;\\;\\Phi(\\tau, 0) = \\Phi(\\tau)$\n",
    "\n",
    "2. $\\frac{d}{dt}(\\Phi(t)) = F(t)\\Phi(t), \\;\\;\\;\\;\\;\\;\\frac{d}{dt}(\\Phi^{-1}(t)) = -F(t)\\Phi^{-1}(t)$\n",
    "\n",
    "3. $\\Phi(\\tau, \\tau) = \\Phi(0)=I$\n",
    "\n",
    "4. $\\Phi^{-1}(\\tau, t) = \\Phi(t,\\tau)$\n",
    "\n",
    "5. $\\Phi(\\tau, \\sigma)\\Phi(\\sigma, t) = \\Phi(\\tau, t)$\n",
    "\n",
    "6. $(\\partial/\\partial \\tau)\\Phi(\\tau,t) = F(\\tau)\\Phi(\\tau,t)$\n",
    "\n",
    "7. $(\\partial/\\partial t)\\Phi(\\tau,t) = -\\Phi(\\tau,t)F(t)$\n",
    "\n",
    "### Solution to nonhomogeneous linear dynamic system\n",
    "\n",
    "$$x(t)=\\Phi(t,t_0)x(t_0)+\\int_{t_0}^{t} \\Phi(t,\\tau)C(\\tau)u(\\tau)\\,d\\tau=\\Phi(t)\\Phi^{-1}(t_0)x(t_0)+\\Phi(t)\\int_{t_0}^{t} \\Phi^{-1}(\\tau)C(\\tau)u(\\tau)\\,d\\tau\\;\\;\\;\\;\\;\\;\\text{(note $t_0$ does not mean $t_0=0$)}$$\n",
    "\n",
    "#### Proof: \n",
    "\n",
    "differentiate $x(t)$ and use properties of STM: \n",
    "\n",
    "$$\\dot{x}(t) = \\frac{d}{dt}(x(t)) = \\frac{d}{dt}\\left(\\Phi(t)\\right)\\Phi^{-1}(t_0)x(t_0) + \\frac{d}{dt}\\left(\\Phi(t)\\int_{t_0}^{t} \\Phi^{-1}(\\tau)C(\\tau)u(\\tau)\\,d\\tau\\right)$$\n",
    "$$=F(t)\\Phi(t)\\Phi^{-1}(t_0)x(t_0) + \\frac{d}{dt}\\left(\\Phi(t)\\right)\\int_{t_0}^{t} \\Phi^{-1}(\\tau)C(\\tau)u(\\tau)\\,d\\tau + \\Phi(t)\\frac{d}{dt}\\left(\\int_{t_0}^{t} \\Phi^{-1}(\\tau)C(\\tau)u(\\tau)\\,d\\tau\\right)$$\n",
    "$$=F(t)x(t) + F(t)\\Phi(t)\\int_{t_0}^{t} \\Phi^{-1}(\\tau)C(\\tau)u(\\tau)\\,d\\tau + \\Phi(t)\\Phi^{-1}(t)C(t)u(t)$$\n",
    "$$=F(t)x(t) + C(t)u(t) + F(t)\\Phi(t)\\color{blue}{\\underbrace{\\int_{t_0}^{t} \\Phi^{-1}(\\tau)C(\\tau)u(\\tau)\\,d\\tau}_{= 0}} =  F(t)x(t) + C(t)u(t)$$\n",
    "\n",
    "The final term is zero because it follows from: \n",
    "\n",
    "$$\\dot{x}(t)-F(t)x(t) = C(t)u(t)$$\n",
    "\n",
    "$$ \\Phi^{-1}(t)\\dot{x}(t)-F(t)\\Phi^{-1}(t)x(t) = \\Phi^{-1}(t)C(t)u(t)$$\n",
    "\n",
    "$$\\frac{d}{dt}\\left(\\Phi^{-1}(t)x(t)\\right) = \\Phi^{-1}(t)C(t)u(t)$$\n",
    "\n",
    "$$\\int_{t_0}^{t} \\frac{d}{d\\tau}\\left(\\Phi^{-1}(\\tau)x(\\tau)\\right) \\,d\\tau = \\int_{t_0}^{t} \\Phi^{-1}(\\tau)C(\\tau)u(\\tau) \\,d\\tau$$\n",
    "\n",
    "$$\\underbrace{\\Phi^{-1}(t)x(t)}_{=x(0)}-\\underbrace{\\Phi^{-1}(t_0)x(t_0)}_{=x(0)} = \\color{blue}{\\int_{t_0}^{t} \\Phi^{-1}(\\tau)C(\\tau)u(\\tau) \\,d\\tau}$$\n",
    "\n",
    "so\n",
    "\n",
    "$$\\color{blue}{\\int_{t_0}^{t} \\Phi^{-1}(\\tau)C(\\tau)u(\\tau) \\,d\\tau} = x(0)-x(0) = 0.$$\n"
   ]
  },
  {
   "cell_type": "code",
   "execution_count": null,
   "metadata": {},
   "outputs": [],
   "source": []
  }
 ],
 "metadata": {
  "kernelspec": {
   "display_name": "Python 3",
   "language": "python",
   "name": "python3"
  },
  "language_info": {
   "codemirror_mode": {
    "name": "ipython",
    "version": 3
   },
   "file_extension": ".py",
   "mimetype": "text/x-python",
   "name": "python",
   "nbconvert_exporter": "python",
   "pygments_lexer": "ipython3",
   "version": "3.7.3"
  }
 },
 "nbformat": 4,
 "nbformat_minor": 2
}
